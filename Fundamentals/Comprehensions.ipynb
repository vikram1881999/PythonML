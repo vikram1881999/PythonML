{
 "cells": [
  {
   "cell_type": "markdown",
   "id": "852600b8-d299-4299-abe3-f3a4e0057a55",
   "metadata": {},
   "source": [
    "# Comprehensions"
   ]
  },
  {
   "cell_type": "code",
   "execution_count": 5,
   "id": "5fada941-908c-467c-9f08-087af452e371",
   "metadata": {},
   "outputs": [
    {
     "name": "stdout",
     "output_type": "stream",
     "text": [
      "[11, 5, 4, 6, 13]\n"
     ]
    }
   ],
   "source": [
    "l1 = [\"automobiles\", \"Honda\", \"Benz\", \"Suzuki\", \"Morris Garage\"]\n",
    "l2 = []\n",
    "for ele in l1:\n",
    "    l2.append(len(ele))\n",
    "print( l2)"
   ]
  },
  {
   "cell_type": "code",
   "execution_count": 7,
   "id": "3eb77b21-ef4f-4459-9d13-12d2ae265ca2",
   "metadata": {},
   "outputs": [
    {
     "data": {
      "text/plain": [
       "[11, 5, 4, 6, 13]"
      ]
     },
     "execution_count": 7,
     "metadata": {},
     "output_type": "execute_result"
    }
   ],
   "source": [
    "# Functional approach\n",
    "l3 = [len(word) for word in l1 ]\n",
    "l3"
   ]
  },
  {
   "cell_type": "code",
   "execution_count": 9,
   "id": "7441ce17-e0cc-42ac-a886-e2c8f3bb744e",
   "metadata": {},
   "outputs": [
    {
     "name": "stdout",
     "output_type": "stream",
     "text": [
      "10 11\n"
     ]
    }
   ],
   "source": [
    "l1 = [2,1,21,21,4,12,43,21,4,21]\n",
    "l2 = [3,2,1,3,221,4,21,312,3,1]\n",
    "print(len(l1), len(l2))"
   ]
  },
  {
   "cell_type": "code",
   "execution_count": 11,
   "id": "bfb90a45-70c0-4634-8cf4-a25f34d16ed6",
   "metadata": {},
   "outputs": [
    {
     "name": "stdout",
     "output_type": "stream",
     "text": [
      "[-1, -1, 20, 18, -217, 8, 22, -291, 1, 20]\n"
     ]
    }
   ],
   "source": [
    "# iterate on them together\n",
    "l3 = []\n",
    "for i,j in zip(l1, l2):\n",
    "    l3.append( i-j );\n",
    "print(l3)\n",
    "    "
   ]
  },
  {
   "cell_type": "code",
   "execution_count": 13,
   "id": "b3b2fa1a-8f44-4c74-944e-468f1a9d1e51",
   "metadata": {},
   "outputs": [
    {
     "data": {
      "text/plain": [
       "{'automobiles': 11, 'Honda': 5, 'Benz': 4, 'Suzuki': 6, 'Morris Garage': 13}"
      ]
     },
     "execution_count": 13,
     "metadata": {},
     "output_type": "execute_result"
    }
   ],
   "source": [
    "#Dictonary Comprehension\n",
    "l4 =[\"automobiles\", \"Honda\", \"Benz\", \"Suzuki\", \"Morris Garage\"]\n",
    "# create dictionary consisting of elements and length of each element of above list\n",
    "d = {word: len(word) for word in l4 }\n",
    "d"
   ]
  },
  {
   "cell_type": "code",
   "execution_count": 15,
   "id": "02e375a3-876e-4fdb-8bb5-27c2b132e60c",
   "metadata": {},
   "outputs": [
    {
     "name": "stdin",
     "output_type": "stream",
     "text": [
      "Enter a word:  vikram\n"
     ]
    },
    {
     "data": {
      "text/plain": [
       "{'a', 'i'}"
      ]
     },
     "execution_count": 15,
     "metadata": {},
     "output_type": "execute_result"
    }
   ],
   "source": [
    "# Set comprehension\n",
    "word = input('Enter a word: ')\n",
    "vowels = { char for char in word if char in \"aeiouAEIOU\" }\n",
    "vowels"
   ]
  },
  {
   "cell_type": "code",
   "execution_count": 25,
   "id": "c7d219da-49f5-47f1-bf1f-ad55c4d4bad4",
   "metadata": {},
   "outputs": [
    {
     "name": "stdout",
     "output_type": "stream",
     "text": [
      "[6, 12, 18, 24, 30, 36, 42, 48, 54, 60] [6, 12, 18, 24, 30, 36, 42, 48, 54, 60]\n"
     ]
    }
   ],
   "source": [
    "# Create list with first 10 multiple 6 in it, so we may do this with a normal for loop or with list comprehensions, Let's see both of them and understand difference\n",
    "l1 = []\n",
    "for i in range(1,11):\n",
    "    l1.append(6*i)\n",
    "\n",
    "l2 = [ i*6 for i in range(1,11)]\n",
    "print( l1, l2)"
   ]
  },
  {
   "cell_type": "code",
   "execution_count": 29,
   "id": "79b69756-fe83-4840-93c5-227a77adbd8c",
   "metadata": {},
   "outputs": [
    {
     "name": "stdout",
     "output_type": "stream",
     "text": [
      "[6, 12, 18, 24, 30, 36, 42, 48, 54, 60] [12, 24, 36, 48, 60]\n"
     ]
    }
   ],
   "source": [
    "# with even numbers only\n",
    "l2 = [ n*6 for n in range(1,11) if n%2 == 0]\n",
    "print( l1, l2)"
   ]
  },
  {
   "cell_type": "code",
   "execution_count": 33,
   "id": "2df4959d-090a-4b5b-81a0-c14f1fdcf560",
   "metadata": {},
   "outputs": [
    {
     "name": "stdout",
     "output_type": "stream",
     "text": [
      "[6, 12, 18, 24, 30, 36, 42, 48, 54, 60] [5, 12, 15, 24, 25, 36, 35, 48, 45, 60]\n"
     ]
    }
   ],
   "source": [
    "# Applying list comprehension with if and else condition\n",
    "# Suppose​​we​​need​​to​​create​​a​​list​​of​​multiple​​of​​6​​for​​even​​numbers​​between​​1​​to​​10​​andmultiple​​of​​5​​for​​rest​​of​​the​​numbers.\n",
    "l2 = [ n*6 if n%2 == 0 else n*5 for n in range(1,11) ]\n",
    "print( l1, l2)"
   ]
  },
  {
   "cell_type": "code",
   "execution_count": 39,
   "id": "0b5e5b11-ae37-44e7-828c-9a2d6d8758d3",
   "metadata": {},
   "outputs": [
    {
     "name": "stdout",
     "output_type": "stream",
     "text": [
      "[1, 2, 3, 4, 5, 6, 7, 8, 9, 10, 2, 4, 6, 8, 10, 12, 14, 16, 18, 20, 3, 6, 9, 12, 15, 18, 21, 24, 27, 30]\n"
     ]
    }
   ],
   "source": [
    "# Applying​​list​​comprehension​​with​​Nested​​loopsNow,​​\n",
    "# Suppose​​we​​need​​to​​multiply​​n​​ranging​​from​​1​​to​​10​​with​​first​​1​​then​​2​​and​​then​​3.\n",
    "list1 = []\n",
    "for i in range(1,4):\n",
    "    for j in range(1,11):\n",
    "        list1.append(j*i)\n",
    "print(list1)"
   ]
  },
  {
   "cell_type": "code",
   "execution_count": 43,
   "id": "faa67236-b70e-469f-9b98-80ebeb508d67",
   "metadata": {},
   "outputs": [
    {
     "name": "stdout",
     "output_type": "stream",
     "text": [
      "[1, 2, 3, 4, 5, 6, 7, 8, 9, 10, 2, 4, 6, 8, 10, 12, 14, 16, 18, 20, 3, 6, 9, 12, 15, 18, 21, 24, 27, 30]\n"
     ]
    }
   ],
   "source": [
    "# nested loop comprehension\n",
    "list2 = [ i*j for i in range(1,4) for j in range(1,11) ]\n",
    "print(list2)"
   ]
  },
  {
   "cell_type": "code",
   "execution_count": null,
   "id": "13fed9f0-c202-4434-9c02-d89f9ede9087",
   "metadata": {},
   "outputs": [],
   "source": []
  }
 ],
 "metadata": {
  "kernelspec": {
   "display_name": "Python [conda env:base] *",
   "language": "python",
   "name": "conda-base-py"
  },
  "language_info": {
   "codemirror_mode": {
    "name": "ipython",
    "version": 3
   },
   "file_extension": ".py",
   "mimetype": "text/x-python",
   "name": "python",
   "nbconvert_exporter": "python",
   "pygments_lexer": "ipython3",
   "version": "3.12.7"
  }
 },
 "nbformat": 4,
 "nbformat_minor": 5
}
