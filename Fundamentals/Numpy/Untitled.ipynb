{
 "cells": [
  {
   "cell_type": "markdown",
   "id": "eb7bd0da-bc81-44bc-abc3-2743c359777b",
   "metadata": {},
   "source": [
    "# NumPy vs Lists"
   ]
  },
  {
   "cell_type": "code",
   "execution_count": 2,
   "id": "cb6a08bf-54e5-45f8-857e-455720fa84ad",
   "metadata": {},
   "outputs": [
    {
     "data": {
      "text/plain": [
       "[187.96, 190.5, 182.88, 182.88, 180.34]"
      ]
     },
     "execution_count": 2,
     "metadata": {},
     "output_type": "execute_result"
    }
   ],
   "source": [
    "heights = [74, 75, 72, 72, 71]\n",
    "heights_list = [ ele*2.54 for ele in heights ]\n",
    "heights_list"
   ]
  },
  {
   "cell_type": "code",
   "execution_count": 4,
   "id": "4673043c-0653-4c75-bb94-a374e0f15c27",
   "metadata": {},
   "outputs": [
    {
     "data": {
      "text/plain": [
       "array([74, 75, 72, 72, 71])"
      ]
     },
     "execution_count": 4,
     "metadata": {},
     "output_type": "execute_result"
    }
   ],
   "source": [
    "import numpy as np\n",
    "np_heights = np.array(heights)\n",
    "np_heights"
   ]
  },
  {
   "cell_type": "code",
   "execution_count": 6,
   "id": "15a7febd-c0d2-4e25-9d9a-1f4140dde458",
   "metadata": {},
   "outputs": [
    {
     "data": {
      "text/plain": [
       "array([187.96, 190.5 , 182.88, 182.88, 180.34])"
      ]
     },
     "execution_count": 6,
     "metadata": {},
     "output_type": "execute_result"
    }
   ],
   "source": [
    "np_heights*2.54"
   ]
  },
  {
   "cell_type": "code",
   "execution_count": 8,
   "id": "89123d29-f2fa-4594-82fa-45225d488d01",
   "metadata": {},
   "outputs": [
    {
     "data": {
      "text/plain": [
       "array([55956.24565534, 57896.93976602, 52194.47588437, 52194.47588437,\n",
       "       50372.81318993])"
      ]
     },
     "execution_count": 8,
     "metadata": {},
     "output_type": "execute_result"
    }
   ],
   "source": [
    "np_heights**2.54"
   ]
  },
  {
   "cell_type": "markdown",
   "id": "6c8bbf41-03f0-482e-b9ed-eab3bc5771fb",
   "metadata": {},
   "source": [
    "#### Numpy comes with its own set of methods and operations"
   ]
  },
  {
   "cell_type": "code",
   "execution_count": 13,
   "id": "c7c83397-ab1e-44b1-9943-dfc70644e2e4",
   "metadata": {},
   "outputs": [
    {
     "data": {
      "text/plain": [
       "[1, 2, 3, 4, 5, 6]"
      ]
     },
     "execution_count": 13,
     "metadata": {},
     "output_type": "execute_result"
    }
   ],
   "source": [
    "list_1  = [1,2,3]\n",
    "list_2 = [4,5,6]\n",
    "list_1 + list_2"
   ]
  },
  {
   "cell_type": "code",
   "execution_count": 15,
   "id": "d17fedb2-1e2d-4e3b-89d0-11e6f9e7c2cc",
   "metadata": {},
   "outputs": [
    {
     "data": {
      "text/plain": [
       "array([5, 7, 9])"
      ]
     },
     "execution_count": 15,
     "metadata": {},
     "output_type": "execute_result"
    }
   ],
   "source": [
    "np.array(list_1) + np.array(list_2)"
   ]
  },
  {
   "cell_type": "code",
   "execution_count": 17,
   "id": "3dd7b587-44dc-4856-a668-0a9cdb991c9b",
   "metadata": {},
   "outputs": [
    {
     "data": {
      "text/plain": [
       "array([ 4, 10, 18])"
      ]
     },
     "execution_count": 17,
     "metadata": {},
     "output_type": "execute_result"
    }
   ],
   "source": [
    "np.array(list_1) * np.array(list_2)"
   ]
  },
  {
   "cell_type": "markdown",
   "id": "8190e7b6-88d5-4355-a36f-5b7ac1452599",
   "metadata": {},
   "source": [
    "#### Working with N-D arrays"
   ]
  },
  {
   "cell_type": "code",
   "execution_count": 20,
   "id": "382073a9-d572-4407-aade-111fd8c3c775",
   "metadata": {},
   "outputs": [
    {
     "data": {
      "text/plain": [
       "numpy.ndarray"
      ]
     },
     "execution_count": 20,
     "metadata": {},
     "output_type": "execute_result"
    }
   ],
   "source": [
    "type(np_heights)"
   ]
  },
  {
   "cell_type": "code",
   "execution_count": null,
   "id": "cdc48f26-0c26-42b9-b6b5-d30651daaa8d",
   "metadata": {},
   "outputs": [],
   "source": []
  }
 ],
 "metadata": {
  "kernelspec": {
   "display_name": "Python [conda env:base] *",
   "language": "python",
   "name": "conda-base-py"
  },
  "language_info": {
   "codemirror_mode": {
    "name": "ipython",
    "version": 3
   },
   "file_extension": ".py",
   "mimetype": "text/x-python",
   "name": "python",
   "nbconvert_exporter": "python",
   "pygments_lexer": "ipython3",
   "version": "3.12.7"
  }
 },
 "nbformat": 4,
 "nbformat_minor": 5
}
