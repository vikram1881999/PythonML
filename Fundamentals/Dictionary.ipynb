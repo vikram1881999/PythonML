{
 "cells": [
  {
   "cell_type": "markdown",
   "id": "6b257234-3e82-4cdc-ac27-a5d5dae54fc3",
   "metadata": {},
   "source": [
    "# Dictionary"
   ]
  },
  {
   "cell_type": "code",
   "execution_count": 7,
   "id": "f99dfe0c-4d05-4020-a884-984adcc3eae9",
   "metadata": {},
   "outputs": [
    {
     "data": {
      "text/plain": [
       "{'INDIA': 'inr', 'AUSTRALIA': 'aus', 'USA': 'dollar'}"
      ]
     },
     "execution_count": 7,
     "metadata": {},
     "output_type": "execute_result"
    }
   ],
   "source": [
    "d = {\"INDIA\": \"inr\", \"AUSTRALIA\": \"aus\", \"USA\": \"dollar\"}\n",
    "d"
   ]
  },
  {
   "cell_type": "code",
   "execution_count": 18,
   "id": "7a6cab04-04a8-49be-a8fb-0d997882ddd2",
   "metadata": {},
   "outputs": [
    {
     "data": {
      "text/plain": [
       "'dollar'"
      ]
     },
     "execution_count": 18,
     "metadata": {},
     "output_type": "execute_result"
    }
   ],
   "source": [
    "d[\"INDIA\"]\n",
    "d[\"USA\"]"
   ]
  },
  {
   "cell_type": "code",
   "execution_count": 20,
   "id": "547d52fd-576d-4bcf-827d-ba9c9bed3e0a",
   "metadata": {},
   "outputs": [
    {
     "data": {
      "text/plain": [
       "{'INDIA': 'rupees', 'AUSTRALIA': 'aus', 'USA': 'dollar'}"
      ]
     },
     "execution_count": 20,
     "metadata": {},
     "output_type": "execute_result"
    }
   ],
   "source": [
    "d[\"INDIA\"] = \"rupees\"\n",
    "d"
   ]
  },
  {
   "cell_type": "code",
   "execution_count": 22,
   "id": "7cc555c7-b081-4cae-ba2e-a62c7227e0c4",
   "metadata": {},
   "outputs": [
    {
     "data": {
      "text/plain": [
       "{'INDIA': 'rupees', 'AUSTRALIA': 'aus', 'USA': 'dollar', 'JAPAN': 'yen'}"
      ]
     },
     "execution_count": 22,
     "metadata": {},
     "output_type": "execute_result"
    }
   ],
   "source": [
    "d[\"JAPAN\"] = \"yen\"\n",
    "d"
   ]
  },
  {
   "cell_type": "code",
   "execution_count": 27,
   "id": "8831c046-c76c-4374-bf75-352118a2cb0f",
   "metadata": {},
   "outputs": [
    {
     "data": {
      "text/plain": [
       "{'INDIA': 'rupees', 'AUSTRALIA': 'aus', 'JAPAN': 'yen'}"
      ]
     },
     "execution_count": 27,
     "metadata": {},
     "output_type": "execute_result"
    }
   ],
   "source": [
    "# delete\n",
    "del d[\"USA\"]\n",
    "d"
   ]
  },
  {
   "cell_type": "code",
   "execution_count": 29,
   "id": "4f031f35-e754-4a6f-9c51-c95de161b08f",
   "metadata": {},
   "outputs": [
    {
     "name": "stdout",
     "output_type": "stream",
     "text": [
      "['AUSTRALIA', 'INDIA', 'JAPAN']\n"
     ]
    }
   ],
   "source": [
    "#sort\n",
    "l = sorted(d)\n",
    "print(l)"
   ]
  },
  {
   "cell_type": "code",
   "execution_count": 31,
   "id": "85d5f874-a3a5-4026-8ec2-04de1aff0d5e",
   "metadata": {},
   "outputs": [
    {
     "data": {
      "text/plain": [
       "dict_values(['rupees', 'aus', 'yen'])"
      ]
     },
     "execution_count": 31,
     "metadata": {},
     "output_type": "execute_result"
    }
   ],
   "source": [
    "#values\n",
    "d.values()"
   ]
  },
  {
   "cell_type": "code",
   "execution_count": 33,
   "id": "dbc69eb3-4882-414a-bba6-55e7a1ace5a9",
   "metadata": {},
   "outputs": [
    {
     "data": {
      "text/plain": [
       "dict_keys(['INDIA', 'AUSTRALIA', 'JAPAN'])"
      ]
     },
     "execution_count": 33,
     "metadata": {},
     "output_type": "execute_result"
    }
   ],
   "source": [
    "#keys\n",
    "d.keys()"
   ]
  },
  {
   "cell_type": "code",
   "execution_count": 35,
   "id": "af3e948e-7ec8-4102-9ec0-90c56dd688d3",
   "metadata": {},
   "outputs": [
    {
     "data": {
      "text/plain": [
       "{'INDIA': 'rupees', 'AUSTRALIA': 'Kangroo', 'JAPAN': 'yen'}"
      ]
     },
     "execution_count": 35,
     "metadata": {},
     "output_type": "execute_result"
    }
   ],
   "source": [
    "d.update({'AUSTRALIA': 'Kangroo'})\n",
    "d"
   ]
  },
  {
   "cell_type": "code",
   "execution_count": 37,
   "id": "f6d314a8-979d-4265-ae7e-1946587f32b2",
   "metadata": {},
   "outputs": [
    {
     "data": {
      "text/plain": [
       "{'a': 1, 'b': 2}"
      ]
     },
     "execution_count": 37,
     "metadata": {},
     "output_type": "execute_result"
    }
   ],
   "source": [
    "d_new = dict( a=1, b=2)\n",
    "d_new"
   ]
  },
  {
   "cell_type": "code",
   "execution_count": 2,
   "id": "85c2bfa5-0859-4461-ad92-1d1045b9ae9c",
   "metadata": {},
   "outputs": [
    {
     "name": "stdout",
     "output_type": "stream",
     "text": [
      "B\n"
     ]
    }
   ],
   "source": [
    "if True or True:\n",
    "\n",
    "    if False and True or False:\n",
    "\n",
    "        print('A')\n",
    "\n",
    "    elif False and False or True and True:\n",
    "\n",
    "        print('B')\n",
    "\n",
    "    else:\n",
    "\n",
    "        print('C')\n",
    "\n",
    "else:\n",
    "\n",
    "    print('D')"
   ]
  },
  {
   "cell_type": "code",
   "execution_count": 4,
   "id": "ef7b5a89-58c7-4b2f-91bc-03ae313d94a9",
   "metadata": {},
   "outputs": [
    {
     "name": "stdout",
     "output_type": "stream",
     "text": [
      "False\n"
     ]
    }
   ],
   "source": [
    "print( False and True or False )"
   ]
  },
  {
   "cell_type": "code",
   "execution_count": null,
   "id": "7c5fa005-1dbe-4dd7-957d-006b48df3655",
   "metadata": {},
   "outputs": [],
   "source": []
  }
 ],
 "metadata": {
  "kernelspec": {
   "display_name": "Python [conda env:base] *",
   "language": "python",
   "name": "conda-base-py"
  },
  "language_info": {
   "codemirror_mode": {
    "name": "ipython",
    "version": 3
   },
   "file_extension": ".py",
   "mimetype": "text/x-python",
   "name": "python",
   "nbconvert_exporter": "python",
   "pygments_lexer": "ipython3",
   "version": "3.12.7"
  }
 },
 "nbformat": 4,
 "nbformat_minor": 5
}
