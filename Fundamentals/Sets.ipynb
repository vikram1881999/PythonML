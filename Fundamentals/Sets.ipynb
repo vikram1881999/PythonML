{
 "cells": [
  {
   "cell_type": "markdown",
   "id": "aecf00c8-5cd2-4987-a592-5481b733989f",
   "metadata": {},
   "source": [
    "# SET"
   ]
  },
  {
   "cell_type": "code",
   "execution_count": 3,
   "id": "963c63bb-612e-40b2-9518-a6172e018796",
   "metadata": {},
   "outputs": [
    {
     "name": "stdout",
     "output_type": "stream",
     "text": [
      "<class 'list'>\n",
      "{32, 2, 3, 13, 14352, 21}\n",
      "<class 'set'>\n"
     ]
    }
   ],
   "source": [
    "l = [3,32,3,2,32,3,21,3,2,14352,3,13]\n",
    "print( type(l))\n",
    "\n",
    "set_l = set(l)\n",
    "print( set_l)\n",
    "print( type(set_l))"
   ]
  },
  {
   "cell_type": "code",
   "execution_count": 9,
   "id": "a5ac84d7-1a73-4213-81df-cdd10d1b992b",
   "metadata": {},
   "outputs": [
    {
     "name": "stdout",
     "output_type": "stream",
     "text": [
      "{'Apple', 1, 3, 'Vikram', 'Banana', 'Mango'}\n",
      "{'Apple', 1, 3, 'Vikram', 'Banana', 'Mango'}\n"
     ]
    }
   ],
   "source": [
    "set_c = {'Apple', 'Mango', 'Banana', 1,2,3}\n",
    "set_c.add('Vikram')\n",
    "set_c.remove(2)\n",
    "print( set_c )\n",
    "print( set_c )"
   ]
  },
  {
   "cell_type": "code",
   "execution_count": 11,
   "id": "f85a686b-b024-4051-9414-bd70437321df",
   "metadata": {},
   "outputs": [
    {
     "name": "stdout",
     "output_type": "stream",
     "text": [
      "{0, 1, 2, 3, 4, 5, 6, 8}\n",
      "{0, 1, 2, 3, 4, 5, 6, 8}\n",
      "{2, 4}\n",
      "{2, 4}\n",
      "{0, 8, 6}\n",
      "{1, 3, 5}\n",
      "{0, 8, 6}\n",
      "{0, 1, 3, 5, 6, 8}\n",
      "{0, 1, 3, 5, 6, 8}\n"
     ]
    }
   ],
   "source": [
    "set_1 = {0,2,4,6,8}\n",
    "set_2 = {1,2,3,4,5}\n",
    "\n",
    "# union \n",
    "print( set_1.union(set_2))\n",
    "print( set_1 | set_2 )\n",
    "\n",
    "# intersection\n",
    "print( set_1 & set_2 )\n",
    "print( set_1.intersection(set_2))\n",
    "\n",
    "#difference\n",
    "print( set_1 - set_2 )\n",
    "print ( set_2 - set_1 )\n",
    "print ( set_1.difference(set_2))\n",
    "\n",
    "#Symmetric difference\n",
    "print( set_1^set_2 )\n",
    "print( (set_1|set_2) - (set_1&set_2))"
   ]
  },
  {
   "cell_type": "code",
   "execution_count": 13,
   "id": "5b734ef1-ee02-42e2-b535-667b35a35811",
   "metadata": {},
   "outputs": [
    {
     "name": "stdout",
     "output_type": "stream",
     "text": [
      "{'r', 'a', 'm', 'k', 'i', 'V'}\n"
     ]
    }
   ],
   "source": [
    "A = set('Vikram')\n",
    "print(A)"
   ]
  },
  {
   "cell_type": "code",
   "execution_count": 21,
   "id": "282ff0ea-d4c0-467a-b76d-19abafa17879",
   "metadata": {},
   "outputs": [
    {
     "name": "stdout",
     "output_type": "stream",
     "text": [
      "True\n"
     ]
    }
   ],
   "source": [
    "print( 'm' in A)"
   ]
  },
  {
   "cell_type": "code",
   "execution_count": null,
   "id": "da2966c8-1805-4189-b81a-68cb7f5e944c",
   "metadata": {},
   "outputs": [],
   "source": []
  }
 ],
 "metadata": {
  "kernelspec": {
   "display_name": "Python [conda env:base] *",
   "language": "python",
   "name": "conda-base-py"
  },
  "language_info": {
   "codemirror_mode": {
    "name": "ipython",
    "version": 3
   },
   "file_extension": ".py",
   "mimetype": "text/x-python",
   "name": "python",
   "nbconvert_exporter": "python",
   "pygments_lexer": "ipython3",
   "version": "3.12.7"
  }
 },
 "nbformat": 4,
 "nbformat_minor": 5
}
