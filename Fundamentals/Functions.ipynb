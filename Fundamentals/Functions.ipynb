{
 "cells": [
  {
   "cell_type": "markdown",
   "id": "881c667e-31d7-41a9-ba4b-4aadcf1d0782",
   "metadata": {},
   "source": [
    "# Functions"
   ]
  },
  {
   "cell_type": "code",
   "execution_count": 8,
   "id": "6129af24-bdae-4f70-8cfe-85b1dfebdf4a",
   "metadata": {},
   "outputs": [
    {
     "name": "stdout",
     "output_type": "stream",
     "text": [
      "120\n",
      "24\n",
      "6\n"
     ]
    }
   ],
   "source": [
    "# Write a function which takes a value as a paramter and return its factorial\n",
    "def factorial(n):\n",
    "    if n == 1:\n",
    "        return n\n",
    "    return n*factorial(n-1)\n",
    "print( factorial(5))\n",
    "print( factorial(4))\n",
    "print( factorial(3))"
   ]
  },
  {
   "cell_type": "code",
   "execution_count": 10,
   "id": "b7694bd3-73e8-43dd-8e0f-f9b3fe56c8e8",
   "metadata": {},
   "outputs": [
    {
     "ename": "SyntaxError",
     "evalue": "invalid syntax (340392871.py, line 1)",
     "output_type": "error",
     "traceback": [
      "\u001b[1;36m  Cell \u001b[1;32mIn[10], line 1\u001b[1;36m\u001b[0m\n\u001b[1;33m    func(x, y):\u001b[0m\n\u001b[1;37m              ^\u001b[0m\n\u001b[1;31mSyntaxError\u001b[0m\u001b[1;31m:\u001b[0m invalid syntax\n"
     ]
    }
   ],
   "source": [
    "func(x, y):\n",
    "    z = x * y + x + y\n",
    "\n",
    "func(2)"
   ]
  },
  {
   "cell_type": "code",
   "execution_count": 12,
   "id": "105513c1-b714-46b2-ae07-11beb1b625bb",
   "metadata": {},
   "outputs": [
    {
     "data": {
      "text/plain": [
       "23"
      ]
     },
     "execution_count": 12,
     "metadata": {},
     "output_type": "execute_result"
    }
   ],
   "source": [
    "def func(x, y = 1):\n",
    "    z = x * y + x + y\n",
    "    return z\n",
    "\n",
    "func(2, func(3))"
   ]
  },
  {
   "cell_type": "code",
   "execution_count": 14,
   "id": "4c59a726-372c-44c0-9f70-e24c65469d13",
   "metadata": {},
   "outputs": [
    {
     "data": {
      "text/plain": [
       "9996"
      ]
     },
     "execution_count": 14,
     "metadata": {},
     "output_type": "execute_result"
    }
   ],
   "source": [
    "c"
   ]
  },
  {
   "cell_type": "code",
   "execution_count": 21,
   "id": "968f5c13-8214-462e-a04b-a4f1671be6bf",
   "metadata": {},
   "outputs": [
    {
     "name": "stdout",
     "output_type": "stream",
     "text": [
      "Vikram 25\n",
      "Viren 35\n"
     ]
    }
   ],
   "source": [
    "# Function arguments\n",
    "# default arguments\n",
    "def func( name, age = 35):\n",
    "    print(name, age)\n",
    "\n",
    "func('Vikram', 25)\n",
    "func('Viren')"
   ]
  },
  {
   "cell_type": "code",
   "execution_count": 23,
   "id": "169fabfb-446e-4a03-bf51-0033f5f6fc34",
   "metadata": {},
   "outputs": [
    {
     "name": "stdout",
     "output_type": "stream",
     "text": [
      "Vikram 25 Gwalior\n"
     ]
    }
   ],
   "source": [
    "#Keyword argument\n",
    "def func( name, age = 25, city = 'Delhi'):\n",
    "    print( name, age, city)\n",
    "\n",
    "func('Vikram', city = 'Gwalior') #key word argument"
   ]
  },
  {
   "cell_type": "code",
   "execution_count": 25,
   "id": "f519cce3-a763-4ec5-8874-121f80e19a7d",
   "metadata": {},
   "outputs": [
    {
     "name": "stdout",
     "output_type": "stream",
     "text": [
      "(1, 2, 'abc')\n"
     ]
    }
   ],
   "source": [
    "# variable length argument\n",
    "def var_func(*args):\n",
    "    print(args)\n",
    "\n",
    "var_func(1,2,'abc')"
   ]
  },
  {
   "cell_type": "markdown",
   "id": "57ef5fa8-f69a-403c-93e5-26baeea77510",
   "metadata": {},
   "source": [
    "## Lambda Functions"
   ]
  },
  {
   "cell_type": "code",
   "execution_count": 28,
   "id": "9e1fa0b5-811f-4728-81e8-7f0163482a33",
   "metadata": {},
   "outputs": [
    {
     "data": {
      "text/plain": [
       "'even'"
      ]
     },
     "execution_count": 28,
     "metadata": {},
     "output_type": "execute_result"
    }
   ],
   "source": [
    "f = lambda x: \"even\" if x%2 == 0 else \"odd\"\n",
    "f(6)"
   ]
  },
  {
   "cell_type": "code",
   "execution_count": 30,
   "id": "9adf292d-25d6-4363-ab64-272c0a8c4bcb",
   "metadata": {},
   "outputs": [
    {
     "data": {
      "text/plain": [
       "'odd'"
      ]
     },
     "execution_count": 30,
     "metadata": {},
     "output_type": "execute_result"
    }
   ],
   "source": [
    "f(5)"
   ]
  },
  {
   "cell_type": "code",
   "execution_count": null,
   "id": "b9e67b1a-6656-4884-b91f-5e788aaf9800",
   "metadata": {},
   "outputs": [],
   "source": []
  }
 ],
 "metadata": {
  "kernelspec": {
   "display_name": "Python [conda env:base] *",
   "language": "python",
   "name": "conda-base-py"
  },
  "language_info": {
   "codemirror_mode": {
    "name": "ipython",
    "version": 3
   },
   "file_extension": ".py",
   "mimetype": "text/x-python",
   "name": "python",
   "nbconvert_exporter": "python",
   "pygments_lexer": "ipython3",
   "version": "3.12.7"
  }
 },
 "nbformat": 4,
 "nbformat_minor": 5
}
