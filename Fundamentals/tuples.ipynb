{
 "cells": [
  {
   "cell_type": "markdown",
   "id": "f009c314-f842-4b3a-9ce1-99c1bbf2bf0f",
   "metadata": {},
   "source": [
    "# Tuples"
   ]
  },
  {
   "cell_type": "code",
   "execution_count": 9,
   "id": "58917170-1daf-48b0-9305-621f2c7d8543",
   "metadata": {},
   "outputs": [
    {
     "name": "stdout",
     "output_type": "stream",
     "text": [
      "('vikram', 'singh', 'chauhan')\n",
      "vikram\n",
      "('vikram', 'singh', 'chauhan')\n",
      "('vikram', 'chauhan')\n",
      "('vikram', 'singh', 'chauhan')\n"
     ]
    }
   ],
   "source": [
    "simple_tuple = (\"vikram\", \"singh\", \"chauhan\")\n",
    "print( simple_tuple);\n",
    "print( simple_tuple[0]);\n",
    "print( simple_tuple[0:]);\n",
    "print( simple_tuple[0::2])\n",
    "\n",
    "new_tuple = simple_tuple\n",
    "print(new_tuple)"
   ]
  },
  {
   "cell_type": "code",
   "execution_count": 19,
   "id": "c625e835-259c-4265-8dc6-c85960f99850",
   "metadata": {},
   "outputs": [
    {
     "name": "stdout",
     "output_type": "stream",
     "text": [
      "['vikram', 'singh', 'chauhan']\n",
      "['vikram', 'singh', 'chauhan', 'Python']\n",
      "('vikram', 'singh', 'chauhan', 'Python')\n"
     ]
    }
   ],
   "source": [
    "simple_list = list(simple_tuple)\n",
    "print( simple_list)\n",
    "simple_list.append(\"Python\")\n",
    "print( simple_list)\n",
    "new_tuple = tuple(simple_list)\n",
    "print(new_tuple)"
   ]
  },
  {
   "cell_type": "code",
   "execution_count": 21,
   "id": "f79789b1-b45c-411c-9a06-809841b5613f",
   "metadata": {},
   "outputs": [
    {
     "name": "stdout",
     "output_type": "stream",
     "text": [
      "(['1', '2', '3'], [], 'Vikram')\n"
     ]
    }
   ],
   "source": [
    "list_tuple = (['1','2','3'], [], \"Vikram\")\n",
    "print(list_tuple)"
   ]
  },
  {
   "cell_type": "code",
   "execution_count": 2,
   "id": "28f5d779-d864-44eb-927c-f492de479e92",
   "metadata": {},
   "outputs": [
    {
     "name": "stdout",
     "output_type": "stream",
     "text": [
      "(1, 2, 3, 4)\n"
     ]
    }
   ],
   "source": [
    "# A tuple can be defined without parenthesis\n",
    "t = 1,2,3,4\n",
    "print(t)"
   ]
  },
  {
   "cell_type": "code",
   "execution_count": 4,
   "id": "9d646e65-0e31-4f21-a7ad-8e0c358e789d",
   "metadata": {},
   "outputs": [
    {
     "name": "stdout",
     "output_type": "stream",
     "text": [
      "(1,) 1\n",
      "<class 'tuple'> <class 'int'>\n"
     ]
    }
   ],
   "source": [
    "# Single value tuple\n",
    "ts = 1,\n",
    "ti = 1\n",
    "print( ts, ti)\n",
    "print( type(ts), type(ti))"
   ]
  },
  {
   "cell_type": "code",
   "execution_count": 6,
   "id": "704a29c1-d70b-435a-be7e-f5f1285b185e",
   "metadata": {},
   "outputs": [
    {
     "name": "stdout",
     "output_type": "stream",
     "text": [
      "10\n",
      "4\n",
      "1\n"
     ]
    }
   ],
   "source": [
    "print( sum(t))\n",
    "print( max(t))\n",
    "print( min(t))"
   ]
  },
  {
   "cell_type": "code",
   "execution_count": 8,
   "id": "e26ac069-dead-44bf-8eeb-06f5beb1a843",
   "metadata": {},
   "outputs": [
    {
     "name": "stdout",
     "output_type": "stream",
     "text": [
      "('Mumbai', 3, 2)\n"
     ]
    }
   ],
   "source": [
    "# Slicing\n",
    "t = ( \"Mumbai\", 3, 2, \"Python\", \"vikram\")\n",
    "print( t[0: 3])"
   ]
  },
  {
   "cell_type": "code",
   "execution_count": 10,
   "id": "12a54143-bd11-453b-be84-e385e5808261",
   "metadata": {},
   "outputs": [
    {
     "name": "stdout",
     "output_type": "stream",
     "text": [
      "('On', 'tup', 'This', 'is', 'Session', 2)\n"
     ]
    }
   ],
   "source": [
    "tup1 =  (\"This\", \"is\", \"Session\", 2)\n",
    "tup2 = ( \"On\", \"tup\")\n",
    "tup3 = tup2 + tup1\n",
    "print( tup3)"
   ]
  },
  {
   "cell_type": "code",
   "execution_count": 12,
   "id": "dcba2385-c8d7-4969-855d-3af7f9b1104c",
   "metadata": {},
   "outputs": [
    {
     "name": "stdout",
     "output_type": "stream",
     "text": [
      "[1, 1, 3, 12, 23, 43] (1, 1, 3, 12, 23, 43)\n"
     ]
    }
   ],
   "source": [
    "# Sorting\n",
    "t = ( 1,3,23,43,12,1)\n",
    "ts = sorted(t)\n",
    "#or\n",
    "tsl = list(t)\n",
    "tsl.sort()\n",
    "nt = tuple(tsl)\n",
    "\n",
    "print( ts, nt)"
   ]
  },
  {
   "cell_type": "code",
   "execution_count": 14,
   "id": "6b4c6aad-770f-452d-9bbc-121ffa10c2a1",
   "metadata": {},
   "outputs": [
    {
     "data": {
      "text/plain": [
       "(1, 2, 3, 4)"
      ]
     },
     "execution_count": 14,
     "metadata": {},
     "output_type": "execute_result"
    }
   ],
   "source": [
    "# packing and unpacking tuples\n",
    "t = ( 1,2,3,4) #packing\n",
    "t"
   ]
  },
  {
   "cell_type": "code",
   "execution_count": 16,
   "id": "057132a8-3647-476e-99b7-e3ba13e3b945",
   "metadata": {},
   "outputs": [
    {
     "data": {
      "text/plain": [
       "3"
      ]
     },
     "execution_count": 16,
     "metadata": {},
     "output_type": "execute_result"
    }
   ],
   "source": [
    "(a,b,c,d) = t #unpacking\n",
    "c"
   ]
  },
  {
   "cell_type": "code",
   "execution_count": 18,
   "id": "fe9b9b31-4bf1-4adc-8fe1-63f33ff05ed4",
   "metadata": {},
   "outputs": [
    {
     "name": "stdout",
     "output_type": "stream",
     "text": [
      "()\n"
     ]
    }
   ],
   "source": [
    "print( t[1:-4])"
   ]
  },
  {
   "cell_type": "code",
   "execution_count": 20,
   "id": "5832cec6-58ca-4e17-ba6c-27704f8b8ebd",
   "metadata": {},
   "outputs": [
    {
     "name": "stdout",
     "output_type": "stream",
     "text": [
      "2\n"
     ]
    }
   ],
   "source": [
    "x = ('2')\n",
    "print(x)"
   ]
  },
  {
   "cell_type": "code",
   "execution_count": 22,
   "id": "97cbfd19-bc7c-4f32-82af-ab55123f72ed",
   "metadata": {},
   "outputs": [
    {
     "name": "stdout",
     "output_type": "stream",
     "text": [
      "1\n"
     ]
    }
   ],
   "source": [
    "y = (1)\n",
    "print( y)"
   ]
  },
  {
   "cell_type": "code",
   "execution_count": null,
   "id": "67fe8f40-36f4-4764-a4fe-0369724e90e3",
   "metadata": {},
   "outputs": [],
   "source": []
  }
 ],
 "metadata": {
  "kernelspec": {
   "display_name": "Python [conda env:base] *",
   "language": "python",
   "name": "conda-base-py"
  },
  "language_info": {
   "codemirror_mode": {
    "name": "ipython",
    "version": 3
   },
   "file_extension": ".py",
   "mimetype": "text/x-python",
   "name": "python",
   "nbconvert_exporter": "python",
   "pygments_lexer": "ipython3",
   "version": "3.12.7"
  }
 },
 "nbformat": 4,
 "nbformat_minor": 5
}
