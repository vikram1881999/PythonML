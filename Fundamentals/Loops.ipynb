{
 "cells": [
  {
   "cell_type": "markdown",
   "id": "9e6f5e48-febb-4936-bd28-65a10cdbf380",
   "metadata": {},
   "source": [
    "# Loops and Iteration"
   ]
  },
  {
   "cell_type": "code",
   "execution_count": 3,
   "id": "2baa21e5-4a11-46b4-b69d-a506b81fdfce",
   "metadata": {},
   "outputs": [
    {
     "name": "stdin",
     "output_type": "stream",
     "text": [
      "Enter the pin:  3232\n",
      "Enter the correct pin:  32323\n",
      "Enter the correct pin:  21212\n",
      "Enter the correct pin:  2121\n",
      "Enter the correct pin:  1234\n"
     ]
    },
    {
     "name": "stdout",
     "output_type": "stream",
     "text": [
      "Pin is validated\n"
     ]
    }
   ],
   "source": [
    "pin = input('Enter the pin: ')\n",
    "while pin != '1234':\n",
    "    pin = input('Enter the correct pin: ')\n",
    "print('Pin is validated')"
   ]
  },
  {
   "cell_type": "code",
   "execution_count": 5,
   "id": "5c38b476-3a97-4e68-ae95-89a1d5c3080b",
   "metadata": {},
   "outputs": [
    {
     "name": "stdin",
     "output_type": "stream",
     "text": [
      "Enter the pin:  32323\n",
      "Enter the pin:  98434\n",
      "Enter the pin:  3231\n",
      "Enter the pin:  3434\n",
      "Enter the pin:  3231\n",
      "Enter the pin:  43421\n"
     ]
    },
    {
     "ename": "SystemExit",
     "evalue": "Your account has been blocked: ",
     "output_type": "error",
     "traceback": [
      "An exception has occurred, use %tb to see the full traceback.\n",
      "\u001b[1;31mSystemExit\u001b[0m\u001b[1;31m:\u001b[0m Your account has been blocked: \n"
     ]
    },
    {
     "name": "stderr",
     "output_type": "stream",
     "text": [
      "E:\\anaconda\\Lib\\site-packages\\IPython\\core\\interactiveshell.py:3585: UserWarning: To exit: use 'exit', 'quit', or Ctrl-D.\n",
      "  warn(\"To exit: use 'exit', 'quit', or Ctrl-D.\", stacklevel=1)\n"
     ]
    }
   ],
   "source": [
    "import sys\n",
    "pin  = input('Enter the pin: ')\n",
    "attempt = 1\n",
    "while pin != '3232':\n",
    "    if attempt == 5:\n",
    "        sys.exit('Your account has been blocked: ')\n",
    "    pin = input('Enter the pin: ')\n",
    "    attempt += 1\n",
    "print('Pin is entered correctly')"
   ]
  },
  {
   "cell_type": "code",
   "execution_count": 7,
   "id": "38f143db-f756-4d71-9a72-05cf2c84fcb1",
   "metadata": {},
   "outputs": [
    {
     "name": "stdout",
     "output_type": "stream",
     "text": [
      "1\n",
      "2\n",
      "1\n",
      "21\n",
      "32\n",
      "121\n",
      "212\n"
     ]
    }
   ],
   "source": [
    "# Iterate over list\n",
    "l = [1,2,1,21,32,121,212]\n",
    "for ele in l:\n",
    "    print(ele)"
   ]
  },
  {
   "cell_type": "code",
   "execution_count": 11,
   "id": "dcc6d70c-5302-4524-ac3e-370262e5f811",
   "metadata": {},
   "outputs": [
    {
     "name": "stdout",
     "output_type": "stream",
     "text": [
      "n\n",
      "e\n",
      "w\n",
      " \n",
      "y\n",
      "o\n",
      "r\n",
      "k\n",
      "new york"
     ]
    }
   ],
   "source": [
    "string = \"new york\"\n",
    "for char in string:\n",
    "    print(char)\n",
    "\n",
    "for char in string:\n",
    "    print( char, end = \"\" )"
   ]
  },
  {
   "cell_type": "code",
   "execution_count": 17,
   "id": "9bcd9067-cdb5-461d-a526-1dd6f451b1ff",
   "metadata": {},
   "outputs": [
    {
     "name": "stdout",
     "output_type": "stream",
     "text": [
      "1 ['Sam', 24]\n",
      "2 ['Rob', 25]\n",
      "3 ['Jack', 26]\n",
      "4 ['Cornor', 24]\n",
      "5 ['Trump', 27]\n"
     ]
    }
   ],
   "source": [
    "# Iterating over dictionary\n",
    "students_data = {1:['Sam', 24], 2: ['Rob', 25], 3:['Jack', 26], 4:['Cornor', 24], 5:['Trump', 27]}\n",
    "for key, val in students_data.items():\n",
    "    print(key, val)"
   ]
  },
  {
   "cell_type": "code",
   "execution_count": 21,
   "id": "c313f833-d81d-4e01-a222-9c35c7cb87f5",
   "metadata": {},
   "outputs": [
    {
     "name": "stdout",
     "output_type": "stream",
     "text": [
      "1,2,3,4,5,"
     ]
    }
   ],
   "source": [
    "for key in students_data.keys():\n",
    "    print(key, end=\",\")"
   ]
  },
  {
   "cell_type": "code",
   "execution_count": 23,
   "id": "4de7cfb0-c927-412d-96df-81512fb9964b",
   "metadata": {},
   "outputs": [
    {
     "data": {
      "text/plain": [
       "range(1, 5)"
      ]
     },
     "execution_count": 23,
     "metadata": {},
     "output_type": "execute_result"
    }
   ],
   "source": [
    "# Generating range\n",
    "range(1,5)"
   ]
  },
  {
   "cell_type": "code",
   "execution_count": 25,
   "id": "92dea906-9982-4598-8dcf-a189c24bec32",
   "metadata": {},
   "outputs": [
    {
     "data": {
      "text/plain": [
       "[1, 2, 3, 4, 5]"
      ]
     },
     "execution_count": 25,
     "metadata": {},
     "output_type": "execute_result"
    }
   ],
   "source": [
    "l = list(range(1,6))\n",
    "l"
   ]
  },
  {
   "cell_type": "code",
   "execution_count": 31,
   "id": "daac9737-66c3-4b76-a0ba-51513759030a",
   "metadata": {},
   "outputs": [
    {
     "name": "stdout",
     "output_type": "stream",
     "text": [
      "[0, 2, 4, 6, 8, 10, 12, 14, 16, 18, 20, 22, 24, 26, 28, 30, 32, 34, 36, 38, 40, 42, 44, 46, 48, 50, 52, 54, 56, 58, 60, 62, 64, 66, 68, 70, 72, 74, 76, 78, 80, 82, 84, 86, 88, 90, 92, 94, 96, 98, 100]\n"
     ]
    }
   ],
   "source": [
    "l = list(range(0,101, 2))\n",
    "print(l)"
   ]
  },
  {
   "cell_type": "code",
   "execution_count": 39,
   "id": "4a708433-84a0-4e03-8bc6-bbea14c957c6",
   "metadata": {},
   "outputs": [
    {
     "name": "stdout",
     "output_type": "stream",
     "text": [
      "[100, 99, 98, 97, 96, 95, 94, 93, 92, 91, 90, 89, 88, 87, 86, 85, 84, 83, 82, 81, 80, 79, 78, 77, 76, 75, 74, 73, 72, 71, 70, 69, 68, 67, 66, 65, 64, 63, 62, 61, 60, 59, 58, 57, 56, 55, 54, 53, 52, 51, 50, 49, 48, 47, 46, 45, 44, 43, 42, 41, 40, 39, 38, 37, 36, 35, 34, 33, 32, 31, 30, 29, 28, 27, 26, 25, 24, 23, 22, 21, 20, 19, 18, 17, 16, 15, 14, 13, 12, 11, 10, 9, 8, 7, 6, 5, 4, 3, 2, 1]\n"
     ]
    }
   ],
   "source": [
    "l = list(range(100,0, -1))\n",
    "print(l)"
   ]
  },
  {
   "cell_type": "code",
   "execution_count": 10,
   "id": "f221d20b-42d2-445e-84e2-590117fb1016",
   "metadata": {},
   "outputs": [
    {
     "name": "stdout",
     "output_type": "stream",
     "text": [
      "1\n",
      "2\n",
      "3\n",
      "4\n",
      "5\n",
      "6\n",
      "7\n",
      "8\n",
      "9\n",
      "11\n",
      "13\n",
      "15\n",
      "17\n",
      "19\n",
      "23\n",
      "25\n",
      "29\n",
      "31\n",
      "35\n",
      "37\n",
      "41\n",
      "43\n",
      "47\n",
      "49\n",
      "53\n",
      "59\n",
      "61\n",
      "67\n",
      "71\n",
      "73\n",
      "79\n",
      "83\n",
      "89\n",
      "97\n"
     ]
    }
   ],
   "source": [
    "import math\n",
    "# Print prime numbers from 1 to 100\n",
    "for n in range(1, 101):\n",
    "    flag = True;\n",
    "    for j in range( 2, n ):\n",
    "        if n%j == 0:\n",
    "            flag = False;\n",
    "            break;\n",
    "    if flag == True:\n",
    "        print(n )"
   ]
  },
  {
   "cell_type": "code",
   "execution_count": null,
   "id": "be56a7bb-6fcc-4074-b85c-b3089970830a",
   "metadata": {},
   "outputs": [],
   "source": []
  }
 ],
 "metadata": {
  "kernelspec": {
   "display_name": "Python [conda env:base] *",
   "language": "python",
   "name": "conda-base-py"
  },
  "language_info": {
   "codemirror_mode": {
    "name": "ipython",
    "version": 3
   },
   "file_extension": ".py",
   "mimetype": "text/x-python",
   "name": "python",
   "nbconvert_exporter": "python",
   "pygments_lexer": "ipython3",
   "version": "3.12.7"
  }
 },
 "nbformat": 4,
 "nbformat_minor": 5
}
