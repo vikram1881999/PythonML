{
 "cells": [
  {
   "cell_type": "markdown",
   "id": "9332274f-422c-46a7-80ea-800eab0452a3",
   "metadata": {},
   "source": [
    "# Variables\n",
    "Python variables are container that can store any type"
   ]
  },
  {
   "cell_type": "code",
   "execution_count": 4,
   "id": "b85abcbd-d1c9-4fbd-9a46-4352f3a10f61",
   "metadata": {},
   "outputs": [
    {
     "name": "stdout",
     "output_type": "stream",
     "text": [
      "mike\n"
     ]
    }
   ],
   "source": [
    "var = \"mike\"\n",
    "print(var);"
   ]
  },
  {
   "cell_type": "code",
   "execution_count": 6,
   "id": "b5fde32e-b6f7-4673-88e5-84994e8efecb",
   "metadata": {},
   "outputs": [
    {
     "name": "stdout",
     "output_type": "stream",
     "text": [
      "2\n"
     ]
    }
   ],
   "source": [
    "var2 = 2\n",
    "print(var2)"
   ]
  },
  {
   "cell_type": "code",
   "execution_count": 10,
   "id": "a80cbeb6-3b70-4d76-9bae-78ab44aebc36",
   "metadata": {},
   "outputs": [
    {
     "name": "stdin",
     "output_type": "stream",
     "text": [
      "Whats your favourite number? 80\n"
     ]
    },
    {
     "name": "stdout",
     "output_type": "stream",
     "text": [
      "80\n"
     ]
    }
   ],
   "source": [
    "var3 = input(\"Whats your favourite number?\")\n",
    "print(var3)"
   ]
  },
  {
   "cell_type": "code",
   "execution_count": 12,
   "id": "a3d88041-1ec3-47f3-94b3-f1d21f8205b1",
   "metadata": {},
   "outputs": [
    {
     "name": "stdin",
     "output_type": "stream",
     "text": [
      "Whats your name:  Vikram\n"
     ]
    }
   ],
   "source": [
    "name = input(\"Whats your name: \")"
   ]
  },
  {
   "cell_type": "code",
   "execution_count": 14,
   "id": "56897e0c-1d42-4233-bcda-4a389d1677c5",
   "metadata": {},
   "outputs": [
    {
     "name": "stdout",
     "output_type": "stream",
     "text": [
      "Welcome Vikram\n"
     ]
    }
   ],
   "source": [
    "print(\"Welcome\", name)"
   ]
  },
  {
   "cell_type": "markdown",
   "id": "db675468-6040-4ce7-bf4f-610aaed1c6f7",
   "metadata": {},
   "source": [
    "#  Data Types\n"
   ]
  },
  {
   "cell_type": "code",
   "execution_count": 25,
   "id": "bbab7296-1e82-4e1b-8081-8bd696d38ecb",
   "metadata": {},
   "outputs": [
    {
     "name": "stdout",
     "output_type": "stream",
     "text": [
      "<class 'int'>\n",
      "<class 'str'>\n",
      "<class 'float'>\n",
      "<class 'list'>\n",
      "<class 'tuple'>\n",
      "<class 'range'>\n",
      "range(0, 7)\n",
      "<class 'dict'>\n",
      "<class 'set'>\n",
      "<class 'frozenset'>\n",
      "<class 'bool'>\n",
      "b'hello'\n",
      "<class 'bytes'>\n",
      "bytearray(b'\\x00\\x00\\x00\\x00\\x00')\n",
      "<class 'bytearray'>\n",
      "<memory at 0x000001FA115F3AC0>\n",
      "<class 'memoryview'>\n",
      "None\n",
      "<class 'NoneType'>\n"
     ]
    }
   ],
   "source": [
    "x = 5\n",
    "print( type(x))\n",
    "\n",
    "y = \"hello world\"\n",
    "print( type(y))\n",
    "\n",
    "z = 10.5\n",
    "print( type(z) )\n",
    "\n",
    "a = [\"apple\", \"banana\", \"cherry\"]\n",
    "print( type(a))\n",
    "\n",
    "b = (\"apple\", \"banana\", \"cherry\")\n",
    "print(type(b))\n",
    "\n",
    "c = range(7)\n",
    "print(type(c))\n",
    "print( c )\n",
    "\n",
    "d = {\"name\" : \"John\", \"age\" : 36}\n",
    "print( type(d))\n",
    "\n",
    "e = {\"apple\", \"banana\", \"cherry\"}\n",
    "print( type(e))\n",
    "\n",
    "f = frozenset({\"apple\", \"banana\", \"cherry\"})\n",
    "print( type(f))\n",
    "\n",
    "g = True\n",
    "print( type(g))\n",
    "\n",
    "h = b\"hello\"\n",
    "print( h)\n",
    "print( type(h))\n",
    "\n",
    "i = bytearray(5)\n",
    "print( i )\n",
    "print( type(i))\n",
    "\n",
    "j = memoryview(bytes(5))\n",
    "print(j)\n",
    "print( type(j))\n",
    "\n",
    "k = None\n",
    "print( k)\n",
    "print(type(k))"
   ]
  },
  {
   "cell_type": "markdown",
   "id": "cb854b11-f729-44b9-9c50-3664114c9081",
   "metadata": {},
   "source": [
    "### Type Casting"
   ]
  },
  {
   "cell_type": "code",
   "execution_count": 28,
   "id": "35a24de1-f027-4da3-9cbe-ce75b52567cf",
   "metadata": {},
   "outputs": [
    {
     "name": "stdout",
     "output_type": "stream",
     "text": [
      "90\n",
      "90.0\n",
      "90\n",
      "(90+0j)\n",
      "True\n"
     ]
    }
   ],
   "source": [
    "var = 90\n",
    "print( int(var) )\n",
    "\n",
    "print( float(var))\n",
    "\n",
    "print( str(var))\n",
    "\n",
    "print( complex(var))\n",
    "\n",
    "print( bool(var))"
   ]
  },
  {
   "cell_type": "markdown",
   "id": "0f39975f-206b-453a-a389-7be55023cd71",
   "metadata": {},
   "source": [
    "# Arithematic Operation"
   ]
  },
  {
   "cell_type": "code",
   "execution_count": 31,
   "id": "c068e7d3-ee31-4b7e-b97f-3775c50c60de",
   "metadata": {},
   "outputs": [
    {
     "name": "stdout",
     "output_type": "stream",
     "text": [
      "30\n",
      "-10\n",
      "200\n",
      "0.5\n",
      "100000000000000000000\n",
      "0\n",
      "10\n"
     ]
    }
   ],
   "source": [
    "a = 10\n",
    "b = 20\n",
    "print( a+b )\n",
    "print( a-b)\n",
    "print( a*b )\n",
    "print ( a/b)\n",
    "print( a**b)\n",
    "print( a//b)\n",
    "print( a%b)"
   ]
  },
  {
   "cell_type": "code",
   "execution_count": null,
   "id": "5f87613b-c43c-42cb-b77a-dde4b2406c70",
   "metadata": {},
   "outputs": [],
   "source": []
  }
 ],
 "metadata": {
  "kernelspec": {
   "display_name": "Python [conda env:base] *",
   "language": "python",
   "name": "conda-base-py"
  },
  "language_info": {
   "codemirror_mode": {
    "name": "ipython",
    "version": 3
   },
   "file_extension": ".py",
   "mimetype": "text/x-python",
   "name": "python",
   "nbconvert_exporter": "python",
   "pygments_lexer": "ipython3",
   "version": "3.12.7"
  }
 },
 "nbformat": 4,
 "nbformat_minor": 5
}
