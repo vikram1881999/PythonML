{
 "cells": [
  {
   "cell_type": "markdown",
   "id": "4547f29d-abdf-4d5a-b6d8-fc7474d7856c",
   "metadata": {},
   "source": [
    "# Lists"
   ]
  },
  {
   "cell_type": "code",
   "execution_count": 11,
   "id": "4bfae4d5-dfd5-401e-a5fe-3cccc84fc07a",
   "metadata": {},
   "outputs": [
    {
     "name": "stdout",
     "output_type": "stream",
     "text": [
      "[]\n",
      "['python', 'java', 'javascript', 'c', 'c++', 'c#', 'go']\n",
      "['java', 'javascript', 'c', 'c++', 'c#', 'go']\n",
      "go\n",
      "['python', 'javascript', 'c++', 'go']\n"
     ]
    }
   ],
   "source": [
    "intial_list = []\n",
    "print(intial_list)\n",
    "\n",
    "languages = ['python', 'java', 'javascript', 'c', 'c++', 'c#', 'go']\n",
    "print(  languages );\n",
    "\n",
    "print( languages[1: ])\n",
    "print ( languages[-1])\n",
    "print( languages[::2])\n"
   ]
  },
  {
   "cell_type": "code",
   "execution_count": 14,
   "id": "643a16d5-5553-43af-a38f-04909e045301",
   "metadata": {},
   "outputs": [
    {
     "name": "stdout",
     "output_type": "stream",
     "text": [
      "['python', 'java', 'javascript', 'c', 'c++', 'c#']\n",
      "['java', 'javascript', 'c', 'c++', 'c#']\n"
     ]
    }
   ],
   "source": [
    "\n",
    "languages.pop()\n",
    "print(languages)\n",
    "\n",
    "languages.pop(0)\n",
    "print( languages)"
   ]
  },
  {
   "cell_type": "code",
   "execution_count": 22,
   "id": "d22d8278-fe3e-4f10-b02f-2da80bb6e019",
   "metadata": {},
   "outputs": [
    {
     "name": "stdout",
     "output_type": "stream",
     "text": [
      "['java', 'javascript', 'c', 'c++', 'c#', 'python', 'python', 'python', 'go', 'python', 'go']\n",
      "['java', 'javascript', 'c', 'c++', 'c#', 'python', 'python', 'python', 'python', 'go']\n"
     ]
    }
   ],
   "source": [
    "languages.append('python')\n",
    "languages.append('go')\n",
    "print( languages)\n",
    "languages.remove('go')\n",
    "print(languages)\n",
    "                 "
   ]
  },
  {
   "cell_type": "markdown",
   "id": "f53fca5f-498e-43ef-913f-df9e9df5bc6b",
   "metadata": {},
   "source": [
    "## String to List"
   ]
  },
  {
   "cell_type": "code",
   "execution_count": 45,
   "id": "88bd6011-2d78-4ea9-b2d5-ebc709bd698d",
   "metadata": {},
   "outputs": [
    {
     "name": "stdout",
     "output_type": "stream",
     "text": [
      "['Hello', 'Vikram,', 'Im', 'not', 'feeling', 'well', 'today', 'please', 'help', 'me', 'raise', 'a', 'request']\n",
      "['Hello Vikram', ' Im not feeling well today please help me raise a request']\n",
      "Hello bsdk Vikram, bsdk Im bsdk not bsdk feeling bsdk well bsdk today bsdk please bsdk help bsdk me bsdk raise bsdk a bsdk request\n"
     ]
    }
   ],
   "source": [
    "a_sentence  =  \"Hello Vikram, Im not feeling well today please help me raise a request\"\n",
    "a_new_sentence = \" bsdk \".join(a_sentence.split())\n",
    "print( a_sentence.split())\n",
    "print( a_sentence.split(','))\n",
    "print(a_new_sentence)"
   ]
  },
  {
   "cell_type": "code",
   "execution_count": 51,
   "id": "0e3a595b-74c0-4aa2-9de1-61c5aa0269b3",
   "metadata": {},
   "outputs": [
    {
     "name": "stdout",
     "output_type": "stream",
     "text": [
      "['hi', 'hi', 'hi', 'hi', 'hi']\n",
      "['hi', 'hi']\n"
     ]
    }
   ],
   "source": [
    "my_list = ['hi']\n",
    "print( my_list*5)\n",
    "print( my_list + my_list)"
   ]
  },
  {
   "cell_type": "markdown",
   "id": "4c456e98-248b-46a8-9419-0b1a1bf61da6",
   "metadata": {},
   "source": [
    "## Operations"
   ]
  },
  {
   "cell_type": "code",
   "execution_count": 58,
   "id": "c11f4210-e433-4337-a156-3c7f4a086533",
   "metadata": {},
   "outputs": [
    {
     "name": "stdout",
     "output_type": "stream",
     "text": [
      "12\n",
      "[1, 1, 2, 2, 2, 3, 21, 21, 32, 32, 321, 342]\n",
      "342\n",
      "1\n"
     ]
    }
   ],
   "source": [
    "num_list = [2,3,2,32,321,32,1,21,342,1,21,2]\n",
    "print(len(num_list))\n",
    "print(sorted(num_list))\n",
    "print( max(num_list))\n",
    "print( min(num_list))"
   ]
  },
  {
   "cell_type": "code",
   "execution_count": 14,
   "id": "87f8b9c9-6131-479c-861b-e2857e525215",
   "metadata": {},
   "outputs": [
    {
     "name": "stdout",
     "output_type": "stream",
     "text": [
      "[1, 2, 3]\n"
     ]
    }
   ],
   "source": [
    "nest = [[1,2,3],[4,5,6],[8,7,9]]\n",
    "print(nest[0])"
   ]
  },
  {
   "cell_type": "code",
   "execution_count": 70,
   "id": "602cdfa3-b64c-4802-bfa6-14a51e020731",
   "metadata": {},
   "outputs": [
    {
     "name": "stdout",
     "output_type": "stream",
     "text": [
      "[8, 7, 9]\n",
      "[1, 2, 3]\n"
     ]
    }
   ],
   "source": [
    "print(max(nest))\n",
    "print(min(nest))"
   ]
  },
  {
   "cell_type": "code",
   "execution_count": 74,
   "id": "60a7de17-b849-4c72-8359-0e303b52deea",
   "metadata": {},
   "outputs": [
    {
     "name": "stdout",
     "output_type": "stream",
     "text": [
      "[]\n"
     ]
    }
   ],
   "source": [
    "word = ['1','2','3','4'] \n",
    "\n",
    "word[ : ] = [ ] \n",
    "print(word)"
   ]
  },
  {
   "cell_type": "code",
   "execution_count": 8,
   "id": "4c104733-1d17-435a-b1c9-cdde439ed48a",
   "metadata": {},
   "outputs": [
    {
     "name": "stdout",
     "output_type": "stream",
     "text": [
      "True\n",
      "False\n"
     ]
    }
   ],
   "source": [
    "#Membership in list\n",
    "L1 = [1,2,3,4]\n",
    "print( 1 in L1)\n",
    "print( 20 in L1)"
   ]
  },
  {
   "cell_type": "code",
   "execution_count": 16,
   "id": "57cdf83c-7f20-4f66-b824-8bc89123ecb9",
   "metadata": {},
   "outputs": [
    {
     "name": "stdout",
     "output_type": "stream",
     "text": [
      "[1, 2, 3, 4, [1, 2, 3], [4, 5, 6], [8, 7, 9]]\n"
     ]
    }
   ],
   "source": [
    "#List cocatenation\n",
    "new_L = L1 + nest\n",
    "print( new_L)"
   ]
  },
  {
   "cell_type": "code",
   "execution_count": 18,
   "id": "908c160d-6b92-4b95-8198-54dac3c1b466",
   "metadata": {},
   "outputs": [
    {
     "name": "stdout",
     "output_type": "stream",
     "text": [
      "[1, 'Hello', 3, 4, [1, 2, 3], [4, 5, 6], [8, 7, 9]]\n"
     ]
    }
   ],
   "source": [
    "#Replace\n",
    "new_L[1] = \"Hello\"\n",
    "print(new_L)"
   ]
  },
  {
   "cell_type": "code",
   "execution_count": 22,
   "id": "ebab149a-d653-429f-b746-729c32d272b4",
   "metadata": {},
   "outputs": [
    {
     "name": "stdout",
     "output_type": "stream",
     "text": [
      "[1, 'Hello', 3, 4, [1, 2, 3], [4, 5, 6], [8, 7, 9], 20, 90]\n"
     ]
    }
   ],
   "source": [
    "#extend\n",
    "new_L.extend([20, 90])\n",
    "print( new_L)"
   ]
  },
  {
   "cell_type": "code",
   "execution_count": 30,
   "id": "91636c39-011c-4b61-84c9-52312b6c9990",
   "metadata": {},
   "outputs": [
    {
     "name": "stdout",
     "output_type": "stream",
     "text": [
      "['Hello', 3, 4, [1, 2, 3], [4, 5, 6], [8, 7, 9], 20, 90, [363, 221], [363, 221], 90, [363, 221], 90]\n"
     ]
    }
   ],
   "source": [
    "# append\n",
    "new_L.append([363, 221])\n",
    "new_L.append(90)\n",
    "print( new_L )"
   ]
  },
  {
   "cell_type": "code",
   "execution_count": 32,
   "id": "e81ae8ea-125a-4a2e-a080-56bf7c843f32",
   "metadata": {},
   "outputs": [
    {
     "name": "stdout",
     "output_type": "stream",
     "text": [
      "[3, 4, [1, 2, 3], [4, 5, 6], [8, 7, 9], 20, 90, [363, 221], [363, 221], 90, [363, 221], 90]\n"
     ]
    }
   ],
   "source": [
    "# del command\n",
    "del new_L[0]\n",
    "print( new_L)"
   ]
  },
  {
   "cell_type": "code",
   "execution_count": 34,
   "id": "bb571476-27aa-40bf-b1a9-bed88d46e9e1",
   "metadata": {},
   "outputs": [
    {
     "name": "stdout",
     "output_type": "stream",
     "text": [
      "[[1, 2, 3], [4, 5, 6], [8, 7, 9], 20, 90, [363, 221], [363, 221], 90, [363, 221], 90]\n"
     ]
    }
   ],
   "source": [
    "del new_L[0:2]\n",
    "print( new_L )"
   ]
  },
  {
   "cell_type": "code",
   "execution_count": 38,
   "id": "b160495d-9e3e-4a26-810e-35fd7a694c8e",
   "metadata": {},
   "outputs": [
    {
     "name": "stdout",
     "output_type": "stream",
     "text": [
      "[[1, 2, 3], [4, 5, 6], [8, 7, 9], 20, 90, [363, 221], [363, 221], 90, [363, 221]]\n"
     ]
    }
   ],
   "source": [
    "#pop\n",
    "new_L.pop()\n",
    "print( new_L)"
   ]
  },
  {
   "cell_type": "code",
   "execution_count": 40,
   "id": "86e4b1c0-551b-42cd-83ec-c0297ff236be",
   "metadata": {},
   "outputs": [
    {
     "name": "stdout",
     "output_type": "stream",
     "text": [
      "[[1, 2, 3], [8, 7, 9], 20, 90, [363, 221], [363, 221], 90, [363, 221]]\n"
     ]
    }
   ],
   "source": [
    "#remove\n",
    "new_L.remove([4,5,6])\n",
    "print( new_L )"
   ]
  },
  {
   "cell_type": "code",
   "execution_count": 44,
   "id": "254f8ef6-b6a4-4e80-89b8-ba0db434e164",
   "metadata": {},
   "outputs": [
    {
     "name": "stdout",
     "output_type": "stream",
     "text": [
      "[1, 2, 2, 2, 2, 2, 2, 3, 4, 4, 12, 14, 21, 31, 32, 32, 43, 43, 43, 142, 432, 432, 3232, 23213]\n"
     ]
    }
   ],
   "source": [
    "# Sorting list\n",
    "L = [2,3,2,32,1,43,2,12,14,2,21,2,142,4,31,3232,432,4,32,43,43,23213,432,2] \n",
    "L.sort()\n",
    "print( L )"
   ]
  },
  {
   "cell_type": "code",
   "execution_count": 46,
   "id": "ff31becb-9a23-4671-9cf0-7bd10e539c72",
   "metadata": {},
   "outputs": [
    {
     "name": "stdout",
     "output_type": "stream",
     "text": [
      "[23213, 3232, 432, 432, 142, 43, 43, 43, 32, 32, 31, 21, 14, 12, 4, 4, 3, 2, 2, 2, 2, 2, 2, 1]\n"
     ]
    }
   ],
   "source": [
    "L.sort(reverse=True)\n",
    "print( L )"
   ]
  },
  {
   "cell_type": "code",
   "execution_count": 50,
   "id": "01bff106-2b29-4eae-8f62-78f743ab4db7",
   "metadata": {},
   "outputs": [
    {
     "name": "stdout",
     "output_type": "stream",
     "text": [
      "['Apple', 'Mango', 'Orange', 'Strawberry']\n",
      "None\n"
     ]
    }
   ],
   "source": [
    "#Sort in place\n",
    "A = [\"Mango\", \"Apple\", \"Orange\", \"Strawberry\"]\n",
    "B = A.sort()\n",
    "print( A)\n",
    "print( B)"
   ]
  },
  {
   "cell_type": "code",
   "execution_count": 56,
   "id": "5bfc2d1d-d5dc-4a2b-87fd-5c5e21d01a29",
   "metadata": {},
   "outputs": [
    {
     "name": "stdout",
     "output_type": "stream",
     "text": [
      "['Mango', 'Apple', 'Orange', 'Strawberry'] ['Apple', 'Mango', 'Orange', 'Strawberry']\n"
     ]
    }
   ],
   "source": [
    "# Sorted list assigned to new element\n",
    "C = [\"Mango\", \"Apple\", \"Orange\", \"Strawberry\"]\n",
    "D = sorted(C)\n",
    "print( C, D)"
   ]
  },
  {
   "cell_type": "code",
   "execution_count": 72,
   "id": "d6afefa2-66cf-4f9a-bf30-738ef477a2ab",
   "metadata": {},
   "outputs": [
    {
     "name": "stdout",
     "output_type": "stream",
     "text": [
      "[2, 33, 222, 14, 25]\n",
      "[]\n"
     ]
    }
   ],
   "source": [
    "F = [2, 33, 222, 14, 25]\n",
    "print( F[ : ] )\n",
    "F[ : ] = []\n",
    "print( F )"
   ]
  },
  {
   "cell_type": "code",
   "execution_count": 74,
   "id": "1b3cbff1-3265-4e93-9c76-e706af5d0f78",
   "metadata": {},
   "outputs": [
    {
     "name": "stdout",
     "output_type": "stream",
     "text": [
      "['five', 'four', 'one', 'six', 'three', 'two']\n",
      "['one', 'two', 'three', 'four', 'five', 'six']\n"
     ]
    }
   ],
   "source": [
    "L = ['one','two','three', 'four', 'five', 'six']\n",
    "\n",
    "print(sorted(L))\n",
    "\n",
    "print (L)"
   ]
  },
  {
   "cell_type": "markdown",
   "id": "ff74fed7-2221-4286-9418-c053d0137c94",
   "metadata": {},
   "source": [
    "### Shadow Copying"
   ]
  },
  {
   "cell_type": "code",
   "execution_count": 79,
   "id": "3ac76047-d9da-4a8a-9cf3-e55b01f1cf13",
   "metadata": {},
   "outputs": [
    {
     "name": "stdout",
     "output_type": "stream",
     "text": [
      "['Orange', 'Apple', 'Banana'] ['Orange', 'Apple', 'Banana'] ['Orange', 'Apple', 'Banana']\n",
      "['Avacado', 'Apple', 'Banana'] ['Avacado', 'Apple', 'Banana'] ['Orange', 'Apple', 'Banana']\n"
     ]
    }
   ],
   "source": [
    "A = [ \"Orange\", \"Apple\", \"Banana\" ]\n",
    "B = A\n",
    "C = A[:]\n",
    "print( A, B, C)\n",
    "\n",
    "A[0] = \"Avacado\"\n",
    "print( A, B, C )"
   ]
  },
  {
   "cell_type": "code",
   "execution_count": null,
   "id": "53e880bf-76a8-4b5d-acb9-22ee93d5cfcf",
   "metadata": {},
   "outputs": [],
   "source": []
  }
 ],
 "metadata": {
  "kernelspec": {
   "display_name": "Python [conda env:base] *",
   "language": "python",
   "name": "conda-base-py"
  },
  "language_info": {
   "codemirror_mode": {
    "name": "ipython",
    "version": 3
   },
   "file_extension": ".py",
   "mimetype": "text/x-python",
   "name": "python",
   "nbconvert_exporter": "python",
   "pygments_lexer": "ipython3",
   "version": "3.12.7"
  }
 },
 "nbformat": 4,
 "nbformat_minor": 5
}
