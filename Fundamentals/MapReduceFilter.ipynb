{
 "cells": [
  {
   "cell_type": "markdown",
   "id": "864752b5-7413-4467-88ad-421adb3a9f16",
   "metadata": {},
   "source": [
    "# Map Reduce Filter"
   ]
  },
  {
   "cell_type": "code",
   "execution_count": 29,
   "id": "74cb720d-f254-436b-8543-305286a11e69",
   "metadata": {},
   "outputs": [
    {
     "data": {
      "text/plain": [
       "['INDIA',\n",
       " 'AMERICA',\n",
       " 'UNITED KINGDOM',\n",
       " 'AUSTRALIA',\n",
       " 'ALASKA',\n",
       " 'GERMANY',\n",
       " 'JAPAN']"
      ]
     },
     "execution_count": 29,
     "metadata": {},
     "output_type": "execute_result"
    }
   ],
   "source": [
    "countries = [ \"india\", \"america\", \"united kingdom\", \"australia\", \"alaska\", \"germany\", \"japan\"]\n",
    "countriesUpper = lambda x: x.upper()\n",
    "def func(countries):\n",
    "    new_list = [];\n",
    "    for country in countries:\n",
    "        new_list.append(countriesUpper(country));\n",
    "    return new_list\n",
    "\n",
    "func(countries)\n"
   ]
  },
  {
   "cell_type": "markdown",
   "id": "381d9269-f51a-4a7e-9d68-7377ef5650f0",
   "metadata": {},
   "source": [
    "### MAP"
   ]
  },
  {
   "cell_type": "code",
   "execution_count": 25,
   "id": "3f875907-8b14-42a3-9dd0-629efcfd9c5f",
   "metadata": {},
   "outputs": [
    {
     "name": "stdout",
     "output_type": "stream",
     "text": [
      "['INDIA', 'AMERICA', 'UNITED KINGDOM', 'AUSTRALIA', 'ALASKA', 'GERMANY', 'JAPAN']\n"
     ]
    }
   ],
   "source": [
    "country_list = map(countriesUpper, countries)\n",
    "print( list(country_list))"
   ]
  },
  {
   "cell_type": "code",
   "execution_count": 22,
   "id": "830ea1c8-97c9-44e3-a4b7-a6552c40320e",
   "metadata": {},
   "outputs": [
    {
     "data": {
      "text/plain": [
       "[4, 256, 46656, 16777216, 10000000000]"
      ]
     },
     "execution_count": 22,
     "metadata": {},
     "output_type": "execute_result"
    }
   ],
   "source": [
    "L1 = [2,4,6,8,10]\n",
    "f_square = lambda x: x**x\n",
    "list(map(f_square, L1))"
   ]
  },
  {
   "cell_type": "markdown",
   "id": "afae384e-8683-4b32-8bac-9ac565793c07",
   "metadata": {},
   "source": [
    "### Filter"
   ]
  },
  {
   "cell_type": "code",
   "execution_count": 38,
   "id": "8b24f9fc-ef2e-439e-be64-6b281ae6a59e",
   "metadata": {},
   "outputs": [
    {
     "data": {
      "text/plain": [
       "[3, 6, 9, 3, 21, 4311, 33]"
      ]
     },
     "execution_count": 38,
     "metadata": {},
     "output_type": "execute_result"
    }
   ],
   "source": [
    "L2 = [1,2,3,4,5,6,7,8,9,32,3,4,2,1,32,21,4311,33]\n",
    "multiple_3 = lambda x: x%3 == 0\n",
    "filter(multiple_3, L2)\n",
    "list(filter(multiple_3, L2))"
   ]
  },
  {
   "cell_type": "code",
   "execution_count": 54,
   "id": "d4392c43-f736-4cdb-99a6-ec4119780c63",
   "metadata": {},
   "outputs": [
    {
     "data": {
      "text/plain": [
       "[(4, ['Cornor', 19]), (5, ['Trump', 20])]"
      ]
     },
     "execution_count": 54,
     "metadata": {},
     "output_type": "execute_result"
    }
   ],
   "source": [
    "students_data = { 1:['Sam', 15] , 2:['Rob', 18], 3:['Kyle', 16], 4:['Cornor', 19], 5:['Trump', 20] }\n",
    "students_data\n",
    "f = lambda item: item[1][1] > 18\n",
    "list(filter(f, students_data.items()))"
   ]
  },
  {
   "cell_type": "markdown",
   "id": "c81a75ba-57fc-49e1-ba82-671a3d9ccf0f",
   "metadata": {},
   "source": [
    "### Reduce"
   ]
  },
  {
   "cell_type": "code",
   "execution_count": 96,
   "id": "6558b07d-982a-4c50-a179-a08e0b4d5aa9",
   "metadata": {},
   "outputs": [
    {
     "ename": "TypeError",
     "evalue": "f() takes 1 positional argument but 2 were given",
     "output_type": "error",
     "traceback": [
      "\u001b[1;31m---------------------------------------------------------------------------\u001b[0m",
      "\u001b[1;31mTypeError\u001b[0m                                 Traceback (most recent call last)",
      "Cell \u001b[1;32mIn[96], line 9\u001b[0m\n\u001b[0;32m      7\u001b[0m     \u001b[38;5;28mprint\u001b[39m(\u001b[38;5;124mf\u001b[39m\u001b[38;5;124m\"\u001b[39m\u001b[38;5;124mMultiplying \u001b[39m\u001b[38;5;132;01m{\u001b[39;00mx\u001b[38;5;132;01m}\u001b[39;00m\u001b[38;5;124m * \u001b[39m\u001b[38;5;132;01m{\u001b[39;00mx\u001b[38;5;132;01m}\u001b[39;00m\u001b[38;5;124m = \u001b[39m\u001b[38;5;132;01m{\u001b[39;00mresult\u001b[38;5;132;01m}\u001b[39;00m\u001b[38;5;124m\"\u001b[39m)\n\u001b[0;32m      8\u001b[0m     \u001b[38;5;28;01mreturn\u001b[39;00m result\n\u001b[1;32m----> 9\u001b[0m reduce( f, \u001b[38;5;28mlist\u001b[39m(l))\n",
      "\u001b[1;31mTypeError\u001b[0m: f() takes 1 positional argument but 2 were given"
     ]
    }
   ],
   "source": [
    "from functools import reduce\n",
    "l = range(1,7)\n",
    "list(l)\n",
    "\n",
    "def f(x,y):\n",
    "    result = x*y\n",
    "    print(f\"Multiplying {x} * {y} = {result}\")\n",
    "    return x*y;\n",
    "reduce( f, list(l))"
   ]
  },
  {
   "cell_type": "code",
   "execution_count": 98,
   "id": "99644018-96f1-4eb9-a0b4-c12f73042d71",
   "metadata": {},
   "outputs": [
    {
     "name": "stdout",
     "output_type": "stream",
     "text": [
      "[0, -1, -2, 2, 2]\n"
     ]
    }
   ],
   "source": [
    "l=(1, -2, -3, 4, 5)\n",
    "def f1(x):\n",
    "    return x//2\n",
    "m1=map(f1, l)\n",
    "print(list(m1))"
   ]
  },
  {
   "cell_type": "code",
   "execution_count": 100,
   "id": "024fa3f2-7f9b-49e1-8787-902151b632d9",
   "metadata": {},
   "outputs": [
    {
     "name": "stdout",
     "output_type": "stream",
     "text": [
      "0\n"
     ]
    }
   ],
   "source": [
    "numbers = [-1, 2, -5, 3, 8,-2, 1,-4,-2]\n",
    "sum = reduce(lambda x, y: x + y, numbers)\n",
    "print(sum)"
   ]
  },
  {
   "cell_type": "code",
   "execution_count": 102,
   "id": "4a93ac04-76ae-47fb-93a7-fee5b9b7746b",
   "metadata": {},
   "outputs": [
    {
     "ename": "TypeError",
     "evalue": "'int' object is not iterable",
     "output_type": "error",
     "traceback": [
      "\u001b[1;31m---------------------------------------------------------------------------\u001b[0m",
      "\u001b[1;31mTypeError\u001b[0m                                 Traceback (most recent call last)",
      "Cell \u001b[1;32mIn[102], line 1\u001b[0m\n\u001b[1;32m----> 1\u001b[0m \u001b[38;5;28mprint\u001b[39m(\u001b[38;5;28mlist\u001b[39m(reduce(\u001b[38;5;28;01mlambda\u001b[39;00m x,y:x\u001b[38;5;241m+\u001b[39my,\u001b[38;5;28mrange\u001b[39m(\u001b[38;5;241m5\u001b[39m,\u001b[38;5;241m15\u001b[39m))))\n",
      "\u001b[1;31mTypeError\u001b[0m: 'int' object is not iterable"
     ]
    }
   ],
   "source": [
    "print(list(reduce(lambda x,y:x+y,range(5,15))))"
   ]
  },
  {
   "cell_type": "code",
   "execution_count": 104,
   "id": "513e2035-dddf-4ebd-87c4-c01256b29e89",
   "metadata": {},
   "outputs": [
    {
     "name": "stdout",
     "output_type": "stream",
     "text": [
      "['dx', 'ix', 'ax', 'sx']\n"
     ]
    }
   ],
   "source": [
    "letters = ('d','i','a','s')\n",
    "ans = list(map(lambda word: f\"{word}x\", letters))\n",
    "print(ans)\n"
   ]
  },
  {
   "cell_type": "code",
   "execution_count": 106,
   "id": "21ebf73a-be44-4812-9f87-443449c3d6c0",
   "metadata": {},
   "outputs": [
    {
     "name": "stdout",
     "output_type": "stream",
     "text": [
      "[12, 20, 28]\n"
     ]
    }
   ],
   "source": [
    "def sf(a):\n",
    "    return a%4==0 and a%8!=0\n",
    "m=filter(sf, range(10, 31))\n",
    "print(list(m))"
   ]
  },
  {
   "cell_type": "code",
   "execution_count": null,
   "id": "65fbe4e7-c451-4c74-981d-b6034ae0b596",
   "metadata": {},
   "outputs": [],
   "source": []
  }
 ],
 "metadata": {
  "kernelspec": {
   "display_name": "Python [conda env:base] *",
   "language": "python",
   "name": "conda-base-py"
  },
  "language_info": {
   "codemirror_mode": {
    "name": "ipython",
    "version": 3
   },
   "file_extension": ".py",
   "mimetype": "text/x-python",
   "name": "python",
   "nbconvert_exporter": "python",
   "pygments_lexer": "ipython3",
   "version": "3.12.7"
  }
 },
 "nbformat": 4,
 "nbformat_minor": 5
}
