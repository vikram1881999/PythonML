{
 "cells": [
  {
   "cell_type": "code",
   "execution_count": 2,
   "id": "f42faf0b-16d7-46f2-938d-55f9096ecb64",
   "metadata": {},
   "outputs": [
    {
     "name": "stdout",
     "output_type": "stream",
     "text": [
      "Hello Vikram\n"
     ]
    }
   ],
   "source": [
    "print(\"Hello Vikram\")"
   ]
  },
  {
   "cell_type": "code",
   "execution_count": 4,
   "id": "01f14cdc-7114-4c51-bec3-639b0b84a3bf",
   "metadata": {},
   "outputs": [
    {
     "name": "stdout",
     "output_type": "stream",
     "text": [
      "Hello Vikram How are you /n mc\n"
     ]
    }
   ],
   "source": [
    "print(\"Hello Vikram How are you /n mc\")"
   ]
  },
  {
   "cell_type": "code",
   "execution_count": 6,
   "id": "af4b8a7f-47e2-4925-8441-4cd41d366630",
   "metadata": {},
   "outputs": [
    {
     "name": "stdout",
     "output_type": "stream",
     "text": [
      "Hello Vikram How are you \n",
      " mc\n"
     ]
    }
   ],
   "source": [
    "print(\"Hello Vikram How are you \\n mc\")"
   ]
  },
  {
   "cell_type": "code",
   "execution_count": 8,
   "id": "34aaa1a9-0311-423a-9897-c784ed6b3f26",
   "metadata": {},
   "outputs": [
    {
     "name": "stdout",
     "output_type": "stream",
     "text": [
      "Vikram\n"
     ]
    }
   ],
   "source": [
    "a = \"Vikram\";\n",
    "print(a);"
   ]
  },
  {
   "cell_type": "code",
   "execution_count": 10,
   "id": "8c06ce5f-97b6-4902-bdb0-b51f6a9bf412",
   "metadata": {},
   "outputs": [
    {
     "name": "stdout",
     "output_type": "stream",
     "text": [
      "19\n",
      "1\n",
      "90\n",
      "3486784401\n",
      "0.9\n"
     ]
    }
   ],
   "source": [
    "a = 9\n",
    "b = 10\n",
    "print( a + b)\n",
    "print( b -a )\n",
    "print ( a* b)\n",
    "print ( a**b)\n",
    "print ( a/b)"
   ]
  },
  {
   "cell_type": "code",
   "execution_count": 18,
   "id": "d25a5146-c4cc-4456-bdb2-cd554ed4478c",
   "metadata": {},
   "outputs": [
    {
     "name": "stdout",
     "output_type": "stream",
     "text": [
      "20\n",
      "10\n",
      "100\n",
      "10.0\n"
     ]
    }
   ],
   "source": [
    "a = 10\n",
    "a += 10\n",
    "print(a)\n",
    "a -= 10\n",
    "print(a)\n",
    "a *= 10\n",
    "print(a)\n",
    "a /= 10\n",
    "print(a)"
   ]
  },
  {
   "cell_type": "markdown",
   "id": "cdb0354c-2dbe-47ab-b9e6-8ee689d720cb",
   "metadata": {},
   "source": [
    "# logical"
   ]
  },
  {
   "cell_type": "code",
   "execution_count": 31,
   "id": "da17033e-30c5-4ec3-b34f-694fda6ca8d5",
   "metadata": {},
   "outputs": [
    {
     "name": "stdout",
     "output_type": "stream",
     "text": [
      "True\n",
      "True\n",
      "False\n",
      "False\n"
     ]
    }
   ],
   "source": [
    "print( 3 < 4 )\n",
    "print ( True or False )\n",
    "print( True and False) \n",
    "print ( not True )"
   ]
  },
  {
   "cell_type": "markdown",
   "id": "cfaa29be-1e8a-47bf-9d0d-1093ff6a90bb",
   "metadata": {},
   "source": [
    "# String"
   ]
  },
  {
   "cell_type": "code",
   "execution_count": 56,
   "id": "58f2ee22-541f-4097-8f03-648340d3d804",
   "metadata": {},
   "outputs": [
    {
     "name": "stdout",
     "output_type": "stream",
     "text": [
      "Hello Vikram how are you is learning python     good     \n",
      "Hello Vikram how are you is learning python     good\n",
      "Hello Vikram how are you is learning python     good\n",
      "%4\n",
      "Hello leena im missing your good afternoon  \n",
      "Hello leena im missing your good afternoon\n"
     ]
    }
   ],
   "source": [
    "some_sentence = \"Hello Vikram how are you is learning python     good     \"\n",
    "print( some_sentence )\n",
    "print( some_sentence.rstrip( ))\n",
    "print ( some_sentence.strip( ))\n",
    "\n",
    "increment = '%4%'\n",
    "print( increment.rstrip('%') )\n",
    "\n",
    "some_new_sentence = \"   Hello leena im missing your good afternoon  \"\n",
    "print( some_new_sentence.lstrip());\n",
    "print( some_new_sentence.strip());"
   ]
  },
  {
   "cell_type": "code",
   "execution_count": 60,
   "id": "321bdb87-9b50-4708-b5b3-864cace6257d",
   "metadata": {},
   "outputs": [
    {
     "name": "stdout",
     "output_type": "stream",
     "text": [
      "2\n"
     ]
    }
   ],
   "source": [
    "val = \"2 Apples\"\n",
    "number_of_apples = val[0]\n",
    "print( number_of_apples);"
   ]
  },
  {
   "cell_type": "code",
   "execution_count": 68,
   "id": "fce404ff-fc9d-4e43-91a8-2dbd29c8c41d",
   "metadata": {},
   "outputs": [
    {
     "name": "stdout",
     "output_type": "stream",
     "text": [
      "Apples\n"
     ]
    }
   ],
   "source": [
    "# slicing by specifying start\n",
    "print( val[2:])"
   ]
  },
  {
   "cell_type": "code",
   "execution_count": 66,
   "id": "81aadea9-6634-4f68-9a43-9e75c44a5f81",
   "metadata": {},
   "outputs": [
    {
     "name": "stdout",
     "output_type": "stream",
     "text": [
      "2 A\n"
     ]
    }
   ],
   "source": [
    "# slicing by specifying start and end\n",
    "print( val[0: 3])"
   ]
  },
  {
   "cell_type": "code",
   "execution_count": 74,
   "id": "835d1474-3b3f-4c6c-8366-4ca74eb56104",
   "metadata": {},
   "outputs": [
    {
     "name": "stdout",
     "output_type": "stream",
     "text": [
      "2 Appl\n"
     ]
    }
   ],
   "source": [
    "# slicing by specifying end \n",
    "print ( val [: -2])"
   ]
  },
  {
   "cell_type": "code",
   "execution_count": 83,
   "id": "7ad76c36-942c-44d3-9384-1c55c29e1af7",
   "metadata": {},
   "outputs": [
    {
     "name": "stdout",
     "output_type": "stream",
     "text": [
      "123456789\n",
      "13579\n",
      "369\n",
      "246\n",
      "aeimquy\n",
      "ehknqtwz\n"
     ]
    }
   ],
   "source": [
    "# more on slicing\n",
    "numbers = '123456789'\n",
    "alphabets = 'abcdefghijklmnopqrstuvwxyz'\n",
    "print( numbers[0::1])\n",
    "print( numbers[0::2])\n",
    "print(numbers[2::3])\n",
    "print( numbers[1:7:2])\n",
    "print( alphabets[0:25:4])\n",
    "print( alphabets[4::3])\n"
   ]
  },
  {
   "cell_type": "code",
   "execution_count": 87,
   "id": "c207574b-9504-45f2-b3c8-01a767fc9375",
   "metadata": {},
   "outputs": [
    {
     "name": "stdout",
     "output_type": "stream",
     "text": [
      " Data Analysis using Pandas \n"
     ]
    }
   ],
   "source": [
    "A = 'Data'\n",
    "B = 'Analysis'\n",
    "C = 'Pandas'\n",
    "print(\" {0} {1} using {2} \".format(A,B,C))"
   ]
  },
  {
   "cell_type": "code",
   "execution_count": 89,
   "id": "b568297b-3038-44ad-8b55-69a904e4d410",
   "metadata": {},
   "outputs": [
    {
     "name": "stdout",
     "output_type": "stream",
     "text": [
      "Ravi\n",
      "Kumar\n",
      "003\n"
     ]
    }
   ],
   "source": [
    "# Input string\n",
    "input_str = 'Kumar_Ravi_003'\n",
    "\n",
    "# Split the string by underscores\n",
    "parts = input_str.split(\"_\")\n",
    "\n",
    "# Extract the second name, first name, and customer code\n",
    "second_name = parts[0]\n",
    "first_name = parts[1]\n",
    "customer_code = parts[2]\n",
    "\n",
    "# Print the extracted values in the desired order\n",
    "print(first_name)\n",
    "print(second_name)\n",
    "print(customer_code)"
   ]
  },
  {
   "cell_type": "code",
   "execution_count": 1,
   "id": "96cbaa6d-ea30-4db7-ae5e-1ceea380619e",
   "metadata": {},
   "outputs": [
    {
     "name": "stdin",
     "output_type": "stream",
     "text": [
      "What is your name Vikram Singh\n"
     ]
    },
    {
     "data": {
      "text/plain": [
       "'Vikram Singh'"
      ]
     },
     "execution_count": 1,
     "metadata": {},
     "output_type": "execute_result"
    }
   ],
   "source": [
    "input(\"What is your name\")"
   ]
  },
  {
   "cell_type": "code",
   "execution_count": 3,
   "id": "f7a24f73-8ef3-4970-beaf-aa5cbddcb2f3",
   "metadata": {},
   "outputs": [
    {
     "name": "stdin",
     "output_type": "stream",
     "text": [
      "What is your name Vikram Singh\n"
     ]
    }
   ],
   "source": [
    "name =  input(\"What is your name\");"
   ]
  },
  {
   "cell_type": "code",
   "execution_count": 5,
   "id": "786e47f7-84e3-4f73-a528-8ed2513ab35d",
   "metadata": {},
   "outputs": [
    {
     "name": "stdout",
     "output_type": "stream",
     "text": [
      "Hi good morning Vikram Singh\n"
     ]
    }
   ],
   "source": [
    "print(\"Hi good morning \" + name);"
   ]
  },
  {
   "cell_type": "code",
   "execution_count": 7,
   "id": "63c4c3f8-5beb-4565-a9fc-2ab30e48eb84",
   "metadata": {},
   "outputs": [
    {
     "name": "stdout",
     "output_type": "stream",
     "text": [
      "Hi good morning Vikram Singh\n"
     ]
    }
   ],
   "source": [
    "print(\"Hi good morning\", name);"
   ]
  },
  {
   "cell_type": "code",
   "execution_count": 9,
   "id": "04ecf243-364b-4b34-9b05-85d072497954",
   "metadata": {},
   "outputs": [
    {
     "name": "stdout",
     "output_type": "stream",
     "text": [
      "$$$$$$$$$$$$$$$$$$$$\n"
     ]
    }
   ],
   "source": [
    "print(\"$\"* 20)"
   ]
  },
  {
   "cell_type": "code",
   "execution_count": 11,
   "id": "c484f7c6-adb2-46bc-8f67-7a9b12afd768",
   "metadata": {},
   "outputs": [
    {
     "name": "stdout",
     "output_type": "stream",
     "text": [
      "$\n",
      "$\n",
      "$\n",
      "$\n",
      "$\n",
      "$\n",
      "$\n",
      "$\n",
      "$\n",
      "$\n",
      "$\n",
      "$\n",
      "$\n",
      "$\n",
      "$\n",
      "$\n",
      "$\n",
      "$\n",
      "$\n",
      "$\n",
      "\n"
     ]
    }
   ],
   "source": [
    "print(\"$\\n\" * 20)"
   ]
  },
  {
   "cell_type": "code",
   "execution_count": null,
   "id": "da592587-8bec-4049-baba-e8758f5d72f4",
   "metadata": {},
   "outputs": [],
   "source": []
  }
 ],
 "metadata": {
  "kernelspec": {
   "display_name": "Python [conda env:base] *",
   "language": "python",
   "name": "conda-base-py"
  },
  "language_info": {
   "codemirror_mode": {
    "name": "ipython",
    "version": 3
   },
   "file_extension": ".py",
   "mimetype": "text/x-python",
   "name": "python",
   "nbconvert_exporter": "python",
   "pygments_lexer": "ipython3",
   "version": "3.12.7"
  }
 },
 "nbformat": 4,
 "nbformat_minor": 5
}
